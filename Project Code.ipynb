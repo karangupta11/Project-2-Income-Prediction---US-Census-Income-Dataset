{
 "cells": [
  {
   "cell_type": "markdown",
   "metadata": {},
   "source": [
    "# ABOUT THE DATASET \n",
    "\n",
    "The data is collected from UCI’s ML repository and each citizen is described by 41 variables that affect his/her income level\n",
    "\n",
    "Total Rows: 199,524\n",
    "\n",
    "Total Columns: 41\n",
    "\n",
    "## Link to Data Source\n",
    "\n",
    "http://archive.ics.uci.edu/ml/machine-learning-databases/census-income-mld/census-income.data.gz![image.png](attachment:image.png)"
   ]
  },
  {
   "cell_type": "code",
   "execution_count": 1,
   "metadata": {},
   "outputs": [],
   "source": [
    "# Project Code\n",
    "# Loading All The Libraries\n",
    "\n",
    "import pandas as pd\n",
    "\n",
    "import numpy as np\n",
    "\n",
    "import seaborn as sns\n",
    "\n",
    "from pyspark.sql import Row\n",
    "\n",
    "from pyspark.sql import SparkSession\n",
    "spark = SparkSession.builder.getOrCreate()\n",
    "sc = spark.sparkContext\n",
    "\n",
    "import matplotlib.mlab as mlab\n",
    "\n",
    "import matplotlib.pyplot as plt\n",
    "\n",
    "from pyspark.sql import functions as fn\n",
    "\n",
    "from pyspark.sql import SparkSession\n",
    "\n",
    "from pyspark.ml import feature, regression, evaluation, Pipeline\n",
    "\n",
    "from pyspark.sql import functions as fn, Row\n",
    "\n",
    "\n",
    "from pyspark.ml.feature import OneHotEncoderEstimator, StringIndexer, VectorAssembler\n",
    "\n",
    "from pyspark.ml import Pipeline\n",
    "\n",
    "from pyspark.ml.evaluation import BinaryClassificationEvaluator\n"
   ]
  },
  {
   "cell_type": "code",
   "execution_count": 2,
   "metadata": {},
   "outputs": [
    {
     "data": {
      "text/plain": [
       "(199523, 41)"
      ]
     },
     "execution_count": 2,
     "metadata": {},
     "output_type": "execute_result"
    }
   ],
   "source": [
    "# Loading csv file using pandas and analyzing structure of the data\n",
    "\n",
    "data = pd.read_csv('train.csv')\n",
    "data.shape"
   ]
  },
  {
   "cell_type": "code",
   "execution_count": 3,
   "metadata": {},
   "outputs": [
    {
     "data": {
      "text/plain": [
       "age                                  int64\n",
       "class_of_worker                     object\n",
       "industry_code                        int64\n",
       "occupation_code                      int64\n",
       "education                           object\n",
       "wage_per_hour                        int64\n",
       "enrolled_in_edu_inst_lastwk         object\n",
       "marital_status                      object\n",
       "major_industry_code                 object\n",
       "major_occupation_code               object\n",
       "race                                object\n",
       "hispanic_origin                     object\n",
       "sex                                 object\n",
       "member_of_labor_union               object\n",
       "reason_for_unemployment             object\n",
       "full_parttime_employment_stat       object\n",
       "capital_gains                        int64\n",
       "capital_losses                       int64\n",
       "dividend_from_Stocks                 int64\n",
       "tax_filer_status                    object\n",
       "region_of_previous_residence        object\n",
       "state_of_previous_residence         object\n",
       "d_household_family_stat             object\n",
       "d_household_summary                 object\n",
       "migration_msa                       object\n",
       "migration_reg                       object\n",
       "migration_within_reg                object\n",
       "live_1_year_ago                     object\n",
       "migration_sunbelt                   object\n",
       "num_person_Worked_employer           int64\n",
       "family_members_under_18             object\n",
       "country_father                      object\n",
       "country_mother                      object\n",
       "country_self                        object\n",
       "citizenship                         object\n",
       "business_or_self_employed            int64\n",
       "fill_questionnaire_veteran_admin    object\n",
       "veterans_benefits                    int64\n",
       "weeks_worked_in_year                 int64\n",
       "year                                 int64\n",
       "income_level                         int64\n",
       "dtype: object"
      ]
     },
     "execution_count": 3,
     "metadata": {},
     "output_type": "execute_result"
    }
   ],
   "source": [
    "# Data types of the columns\n",
    "\n",
    "data.dtypes"
   ]
  },
  {
   "cell_type": "markdown",
   "metadata": {},
   "source": [
    "# EXPLORING THE DATA"
   ]
  },
  {
   "cell_type": "code",
   "execution_count": 4,
   "metadata": {},
   "outputs": [],
   "source": [
    "# Removing unnecessary columns from the data\n",
    "drop_cols = ['industry_code','occupation_code','migration_msa','migration_reg','migration_within_reg',\n",
    "             'migration_sunbelt','fill_questionnaire_veteran_admin','live_1_year_ago']\n",
    "\n",
    "new_data= data.drop(drop_cols,axis=1)\n"
   ]
  },
  {
   "cell_type": "code",
   "execution_count": 5,
   "metadata": {
    "scrolled": true
   },
   "outputs": [
    {
     "name": "stdout",
     "output_type": "stream",
     "text": [
      "(199523, 33)\n",
      "17807\n",
      "age                                 0\n",
      "class_of_worker                     0\n",
      "education                           0\n",
      "wage_per_hour                       0\n",
      "enrolled_in_edu_inst_lastwk         0\n",
      "marital_status                      0\n",
      "major_industry_code                 0\n",
      "major_occupation_code               0\n",
      "race                                0\n",
      "hispanic_origin                   874\n",
      "sex                                 0\n",
      "member_of_labor_union               0\n",
      "reason_for_unemployment             0\n",
      "full_parttime_employment_stat       0\n",
      "capital_gains                       0\n",
      "capital_losses                      0\n",
      "dividend_from_Stocks                0\n",
      "tax_filer_status                    0\n",
      "region_of_previous_residence        0\n",
      "state_of_previous_residence       708\n",
      "d_household_family_stat             0\n",
      "d_household_summary                 0\n",
      "num_person_Worked_employer          0\n",
      "family_members_under_18             0\n",
      "country_father                   6713\n",
      "country_mother                   6119\n",
      "country_self                     3393\n",
      "citizenship                         0\n",
      "business_or_self_employed           0\n",
      "veterans_benefits                   0\n",
      "weeks_worked_in_year                0\n",
      "year                                0\n",
      "income_level                        0\n",
      "dtype: int64\n"
     ]
    }
   ],
   "source": [
    "# Exploring the data\n",
    "# Total length of dataframe\n",
    "print(new_data.shape)\n",
    "# Number of Nulls in dataframe\n",
    "print(new_data.isnull().values.sum())\n",
    "# Number of Nulls by column in dataframe\n",
    "print(new_data.isnull().sum())\n",
    "\n",
    "# Creating a dataframe for NA Values\n",
    "x= pd.DataFrame({\"Columns\":new_data.columns,\"Values\":new_data.isnull().sum()})\n",
    "x= x.sort_values(by=['Values'],ascending=False)\n",
    "\n",
    "# Percentage of missing values is 11%\n",
    "#num_rows= obj_df.shape\n",
    "#null_values = obj_df.isnull().values.sum()\n",
    "#missing_values = (null_values/num_rows)*100\n",
    "#print(missing_values)"
   ]
  },
  {
   "cell_type": "markdown",
   "metadata": {},
   "source": [
    "# EXPLORATORY ANALYSIS VISUALIZATIONS"
   ]
  },
  {
   "cell_type": "code",
   "execution_count": 6,
   "metadata": {},
   "outputs": [
    {
     "data": {
      "text/plain": [
       "<matplotlib.axes._subplots.AxesSubplot at 0x7f83fcd31b70>"
      ]
     },
     "execution_count": 6,
     "metadata": {},
     "output_type": "execute_result"
    },
    {
     "data": {
      "image/png": "[encoded data removed]",
      "text/plain": [
       "<Figure size 432x288 with 1 Axes>"
      ]
     },
     "metadata": {
      "needs_background": "light"
     },
     "output_type": "display_data"
    }
   ],
   "source": [
    "# Plot of Null Values\n",
    "\n",
    "sns.barplot(x=\"Values\", y=\"Columns\", data=x[0:5])"
   ]
  },
  {
   "cell_type": "code",
   "execution_count": 7,
   "metadata": {},
   "outputs": [
    {
     "data": {
      "text/plain": [
       "<matplotlib.axes._subplots.AxesSubplot at 0x7f843876d048>"
      ]
     },
     "execution_count": 7,
     "metadata": {},
     "output_type": "execute_result"
    },
    {
     "data": {
      "image/png": "[encoded data removed]",
      "text/plain": [
       "<Figure size 432x288 with 1 Axes>"
      ]
     },
     "metadata": {
      "needs_background": "light"
     },
     "output_type": "display_data"
    }
   ],
   "source": [
    "# ScatterPlot of age and wage per hour column based on sex\n",
    "\n",
    "sns.scatterplot(x=\"age\", y=\"wage_per_hour\", hue=\"sex\", data=data)"
   ]
  },
  {
   "cell_type": "code",
   "execution_count": 8,
   "metadata": {},
   "outputs": [
    {
     "name": "stderr",
     "output_type": "stream",
     "text": [
      "/opt/conda/lib/python3.6/site-packages/scipy/stats/stats.py:1713: FutureWarning: Using a non-tuple sequence for multidimensional indexing is deprecated; use `arr[tuple(seq)]` instead of `arr[seq]`. In the future this will be interpreted as an array index, `arr[np.array(seq)]`, which will result either in an error or a different result.\n",
      "  return np.add.reduce(sorted[indexer] * weights, axis=axis) / sumval\n"
     ]
    },
    {
     "data": {
      "text/plain": [
       "<matplotlib.axes._subplots.AxesSubplot at 0x7f8438751ef0>"
      ]
     },
     "execution_count": 8,
     "metadata": {},
     "output_type": "execute_result"
    },
    {
     "data": {
      "image/png": "[encoded data removed]",
      "text/plain": [
       "<Figure size 432x288 with 1 Axes>"
      ]
     },
     "metadata": {
      "needs_background": "light"
     },
     "output_type": "display_data"
    }
   ],
   "source": [
    "# Identifying the relationship betweeen education qualifications and wage per hour \n",
    "\n",
    "sns.barplot(x=\"wage_per_hour\", y=\"education\",palette=\"Blues_d\",data=data)"
   ]
  },
  {
   "cell_type": "code",
   "execution_count": 9,
   "metadata": {
    "scrolled": true
   },
   "outputs": [
    {
     "data": {
      "text/plain": [
       "<matplotlib.axes._subplots.AxesSubplot at 0x7f84385f47b8>"
      ]
     },
     "execution_count": 9,
     "metadata": {},
     "output_type": "execute_result"
    },
    {
     "data": {
      "image/png": "[encoded data removed]",
      "text/plain": [
       "<Figure size 432x288 with 1 Axes>"
      ]
     },
     "metadata": {
      "needs_background": "light"
     },
     "output_type": "display_data"
    }
   ],
   "source": [
    "# Identifying the relationship betweeen job qualifications and wage per hour \n",
    "\n",
    "sns.barplot(x=\"wage_per_hour\", y=\"major_occupation_code\",palette= \"GnBu_d\",data=data)"
   ]
  },
  {
   "cell_type": "markdown",
   "metadata": {},
   "source": [
    "# DATA CLEANING\n",
    "\n",
    "## Techniques Used\n",
    "### Removing unnecessary columns \n",
    "### Removing null values by imputation\n",
    "### Converting categorical values to numerical values\n",
    "### Binning of features such as - Age\n",
    "### Changing data types \n",
    "### Developing separate data frames"
   ]
  },
  {
   "cell_type": "code",
   "execution_count": 10,
   "metadata": {},
   "outputs": [
    {
     "data": {
      "text/plain": [
       "age                                 int64\n",
       "class_of_worker                  category\n",
       "education                        category\n",
       "wage_per_hour                       int64\n",
       "enrolled_in_edu_inst_lastwk      category\n",
       "marital_status                   category\n",
       "major_industry_code              category\n",
       "major_occupation_code            category\n",
       "race                             category\n",
       "hispanic_origin                  category\n",
       "sex                              category\n",
       "member_of_labor_union            category\n",
       "reason_for_unemployment          category\n",
       "full_parttime_employment_stat    category\n",
       "capital_gains                       int64\n",
       "capital_losses                      int64\n",
       "dividend_from_Stocks                int64\n",
       "tax_filer_status                 category\n",
       "region_of_previous_residence     category\n",
       "state_of_previous_residence      category\n",
       "d_household_family_stat          category\n",
       "d_household_summary              category\n",
       "num_person_Worked_employer          int64\n",
       "family_members_under_18          category\n",
       "country_father                   category\n",
       "country_mother                   category\n",
       "country_self                     category\n",
       "citizenship                      category\n",
       "business_or_self_employed           int64\n",
       "veterans_benefits                   int64\n",
       "weeks_worked_in_year                int64\n",
       "year                                int64\n",
       "income_level                     category\n",
       "dtype: object"
      ]
     },
     "execution_count": 10,
     "metadata": {},
     "output_type": "execute_result"
    }
   ],
   "source": [
    "# Removing Na values for state_of_previous_residence column\n",
    "\n",
    "new_data.dtypes\n",
    "new_data_df = new_data.dropna(subset=['state_of_previous_residence'])\n",
    "\n",
    "# Replacing na by unavailable\n",
    "\n",
    "new_data_df= new_data.replace(np.nan, 'Unavailable', regex=True)\n",
    "\n",
    "# Converting data to category i.e. income_level\n",
    "\n",
    "new_data_df= new_data_df.astype('category')\n",
    "new_data_df.dtypes\n",
    "\n",
    "# Converting numerical variables in the data\n",
    "\n",
    "new_data_df['age']= new_data_df.age.astype('int64')\n",
    "new_data_df['wage_per_hour']= new_data_df.wage_per_hour.astype('int64')\n",
    "new_data_df['capital_gains']= new_data_df.capital_gains.astype('int64')\n",
    "new_data_df['capital_losses']= new_data_df.capital_losses.astype('int64')\n",
    "new_data_df['dividend_from_Stocks']= new_data_df.dividend_from_Stocks.astype('int64')\n",
    "new_data_df['num_person_Worked_employer']= new_data_df.num_person_Worked_employer.astype('int64')\n",
    "new_data_df['business_or_self_employed']= new_data_df.business_or_self_employed.astype('int64')\n",
    "new_data_df['veterans_benefits']= new_data_df.veterans_benefits.astype('int64')\n",
    "new_data_df['weeks_worked_in_year']= new_data_df.weeks_worked_in_year.astype('int64')\n",
    "new_data_df['year']= new_data_df.year.astype('int64')\n",
    "new_data_df.dtypes"
   ]
  },
  {
   "cell_type": "code",
   "execution_count": 11,
   "metadata": {
    "scrolled": true
   },
   "outputs": [],
   "source": [
    "# Creating a dataframe for only models\n",
    "\n",
    "drop_cols = ['enrolled_in_edu_inst_lastwk','member_of_labor_union','region_of_previous_residence','state_of_previous_residence',\n",
    "            'd_household_summary','family_members_under_18','country_father','country_mother','country_self',\n",
    "            'year','hispanic_origin','reason_for_unemployment']\n",
    "\n",
    "model_data = new_data_df.drop(drop_cols,axis=1)\n",
    "\n",
    "# Converting sex into categorical variable\n",
    "\n",
    "model_data['sex']= model_data['sex'].apply(lambda x: 1 if x == 'Male' else 0)\n",
    "model_data['sex']= model_data.sex.astype('int64')\n",
    "\n",
    "# Converting wage_per_hour into categorical variable\n",
    "\n",
    "model_data['wage_per_hour'] = model_data['wage_per_hour'].apply(lambda x: 0 if x== 0 else 1)"
   ]
  },
  {
   "cell_type": "code",
   "execution_count": 12,
   "metadata": {},
   "outputs": [],
   "source": [
    "# Analyzing the numerical data by subsetting from the main data frame\n",
    "\n",
    "num_df = model_data.select_dtypes(include=['int64']).copy()"
   ]
  },
  {
   "cell_type": "code",
   "execution_count": 13,
   "metadata": {},
   "outputs": [
    {
     "data": {
      "text/plain": [
       "<matplotlib.axes._subplots.AxesSubplot at 0x7f843826a2b0>"
      ]
     },
     "execution_count": 13,
     "metadata": {},
     "output_type": "execute_result"
    },
    {
     "data": {
      "image/png": "[encoded data removed]",
      "text/plain": [
       "<Figure size 432x288 with 2 Axes>"
      ]
     },
     "metadata": {
      "needs_background": "light"
     },
     "output_type": "display_data"
    }
   ],
   "source": [
    "# Visualization 1 - Correlation Matrix\n",
    "\n",
    "corr = num_df.corr()\n",
    "sns.heatmap(corr, \n",
    "            xticklabels=corr.columns.values,\n",
    "            yticklabels=corr.columns.values)"
   ]
  },
  {
   "cell_type": "markdown",
   "metadata": {},
   "source": [
    "# USING SPARK FOR ANALYSIS"
   ]
  },
  {
   "cell_type": "code",
   "execution_count": 14,
   "metadata": {},
   "outputs": [],
   "source": [
    "# Creating a dataframe for all model_df\n",
    "\n",
    "model_df = spark.createDataFrame(model_data)\n"
   ]
  },
  {
   "cell_type": "code",
   "execution_count": 15,
   "metadata": {},
   "outputs": [],
   "source": [
    "# Bucketing age column\n",
    "\n",
    "from pyspark.ml.feature import Bucketizer\n",
    "\n",
    "bucketizer = Bucketizer(splits=[ 0, 25, 50,75, float('Inf') ],inputCol=\"age\", outputCol=\"bucket_ages\")\n",
    "model_df = bucketizer.setHandleInvalid(\"keep\").transform(model_df)\n"
   ]
  },
  {
   "cell_type": "code",
   "execution_count": 16,
   "metadata": {},
   "outputs": [
    {
     "data": {
      "text/plain": [
       "[Row(age=73, bucket_ages=2.0, wage_per_hour=0, income_level=-50000),\n",
       " Row(age=58, bucket_ages=2.0, wage_per_hour=0, income_level=-50000),\n",
       " Row(age=18, bucket_ages=0.0, wage_per_hour=0, income_level=-50000),\n",
       " Row(age=9, bucket_ages=0.0, wage_per_hour=0, income_level=-50000),\n",
       " Row(age=10, bucket_ages=0.0, wage_per_hour=0, income_level=-50000)]"
      ]
     },
     "execution_count": 16,
     "metadata": {},
     "output_type": "execute_result"
    }
   ],
   "source": [
    "# Checking the current data format for the given columns\n",
    "\n",
    "model_df['age','bucket_ages','wage_per_hour','income_level'].take(5)"
   ]
  },
  {
   "cell_type": "code",
   "execution_count": 17,
   "metadata": {},
   "outputs": [],
   "source": [
    "# Dropping age column and keeping bucket_ages column \n",
    "\n",
    "model_df= model_df.drop('age')"
   ]
  },
  {
   "cell_type": "code",
   "execution_count": 18,
   "metadata": {},
   "outputs": [],
   "source": [
    "# Converting all categorical variables into numerical variables\n",
    "\n",
    "dummy_df = model_df.select(\n",
    "                          fn.when(fn.col(\"class_of_worker\")=='Federal government',1).otherwise(0).alias('Class_Fed_Government'),\n",
    "                          fn.when(fn.col(\"class_of_worker\")=='Local government',1).otherwise(0).alias('Class_Local_Government'),\n",
    "                          fn.when(fn.col(\"class_of_worker\")=='Never worked',1).otherwise(0).alias('Class_Never_Worked'),\n",
    "                          fn.when(fn.col(\"class_of_worker\")=='Private',1).otherwise(0).alias('Class_Private'),\n",
    "                          fn.when(fn.col(\"class_of_worker\")=='Self-employed-not incorporated',1).otherwise(0).alias('Class_Self_Employed_NI'),\n",
    "                          fn.when(fn.col(\"class_of_worker\")=='Self-employed-incorporated',1).otherwise(0).alias('Class_Self_Employed_I'),\n",
    "                          fn.when(fn.col(\"class_of_worker\")=='State government',1).otherwise(0).alias('Class_State_Government'),\n",
    "                          fn.when(fn.col(\"class_of_worker\")=='Without pay',1).otherwise(0).alias('Class_Without_Pay'),\n",
    "                          fn.when(fn.col(\"class_of_worker\")=='Not in universe',1).otherwise(0).alias('Class_NI_Universe'),\n",
    "    \n",
    "                          fn.when(fn.col(\"education\")=='10th grade',1).otherwise(0).alias('education_10th_grade'),\n",
    "                          fn.when(fn.col(\"education\")=='11th grade',1).otherwise(0).alias('education_11th_grade'),\n",
    "                          fn.when(fn.col(\"education\")=='12th grade no diploma',1).otherwise(0).alias('education_12th_grade_no_diploma'),\n",
    "                          fn.when(fn.col(\"education\")=='1st 2nd 3rd or 4th grade',1).otherwise(0).alias('edu_1st_to_4th'),\n",
    "                          fn.when(fn.col(\"education\")=='5th or 6th grade',1).otherwise(0).alias('education_5th_to_6th'),\n",
    "                          fn.when(fn.col(\"education\")=='7th and 8th grade',1).otherwise(0).alias('education_7th_to_8th'),\n",
    "                          fn.when(fn.col(\"education\")=='9th grade',1).otherwise(0).alias('education_9th_grade'),\n",
    "                          fn.when(fn.col(\"education\")=='Associates degree-academic program',1).otherwise(0).alias('education_associate_degree'),\n",
    "                          fn.when(fn.col(\"education\")=='Associates degree-occup /vocational',1).otherwise(0).alias('education_occup_vocational'),\n",
    "                          fn.when(fn.col(\"education\")=='Bachelors degree(BA AB BS)',1).otherwise(0).alias('education_bachelors_degree'),\n",
    "                          fn.when(fn.col(\"education\")=='Children',1).otherwise(0).alias('education_child'),\n",
    "                          fn.when(fn.col(\"education\")=='Doctorate degree(PhD EdD)',1).otherwise(0).alias('education_phd'),\n",
    "                          fn.when(fn.col(\"education\")=='High school graduate',1).otherwise(0).alias('education_high_school_grad'),\n",
    "                          fn.when(fn.col(\"education\")=='Less than 1st grade',1).otherwise(0).alias('education_less_than_1st_grade'),\n",
    "                          fn.when(fn.col(\"education\")=='Masters degree(MA MS MEng MEd MSW MBA)',1).otherwise(0).alias('education_masters'),\n",
    "                          fn.when(fn.col(\"education\")=='Prof school degree (MD DDS DVM LLB JD)',1).otherwise(0).alias('education_profesional_deg'),\n",
    "                          fn.when(fn.col(\"education\")=='Some college but no degree',1).otherwise(0).alias('education_some_college'),\n",
    "                          'wage_per_hour',\n",
    "    \n",
    "                          fn.when(fn.col(\"marital_status\")=='Married-civilian spouse present',1).otherwise(0).alias('Marital_Status_Married_Civilian_Spouse'),\n",
    "                          fn.when(fn.col(\"marital_status\")=='Married-A F spouse present',1).otherwise(0).alias('Marital_Status_Married_A_F_Spouse'),\n",
    "                          fn.when(fn.col(\"marital_status\")=='Married-spouse absent',1).otherwise(0).alias('Marital_Status_Married_Spouse_Absent'),\n",
    "                          fn.when(fn.col(\"marital_status\")=='Never married',1).otherwise(0).alias('Marital_Status_Never_Married'),\n",
    "                          fn.when(fn.col(\"marital_status\")=='Separated',1).otherwise(0).alias('Marital_Status_Separated'),\n",
    "                          fn.when(fn.col(\"marital_status\")=='Widowed',1).otherwise(0).alias('Marital_Status_Widowed'),    \n",
    "                          fn.when(fn.col(\"marital_status\")=='Divorced',1).otherwise(0).alias('Marital_Status_Divorced'),\n",
    "    \n",
    "                          fn.when(fn.col(\"major_industry_code\")=='Business and repair services',1).otherwise(0).alias('Industry_code_Business_and_repair_services'),\n",
    "                          fn.when(fn.col(\"major_industry_code\")=='Utilities and sanitary services',1).otherwise(0).alias('Industry_code_Utilities_and_sanitary_services'),\n",
    "                          fn.when(fn.col(\"major_industry_code\")=='Communications',1).otherwise(0).alias('Industry_code_Communications'),\n",
    "                          fn.when(fn.col(\"major_industry_code\")=='Finance insurance and real estate',1).otherwise(0).alias('Industry_code_Finance_insurance_and_real_estate'),\n",
    "                          fn.when(fn.col(\"major_industry_code\")=='Not in universe or children',1).otherwise(0).alias('Industry_code_Not_in_universe_or_children'),\n",
    "                          fn.when(fn.col(\"major_industry_code\")=='Other professional services',1).otherwise(0).alias('Industry_code_Other_professional_services'),\n",
    "                          fn.when(fn.col(\"major_industry_code\")=='Transportation',1).otherwise(0).alias('Industry_code_Transportation'),\n",
    "                          fn.when(fn.col(\"major_industry_code\")=='Retail trade',1).otherwise(0).alias('Industry_code_Retail_trade'),\n",
    "                          fn.when(fn.col(\"major_industry_code\")=='Manufacturing-nondurable goods',1).otherwise(0).alias('Industry_code_Manufacturing-nondurable_goods'),\n",
    "                          fn.when(fn.col(\"major_industry_code\")=='Education',1).otherwise(0).alias('Industry_code_Education'),\n",
    "                          fn.when(fn.col(\"major_industry_code\")=='Hospital services',1).otherwise(0).alias('Industry_code_Hospital_services'),\n",
    "                          fn.when(fn.col(\"major_industry_code\")=='Manufacturing-durable goods',1).otherwise(0).alias('Industry_code_Manufacturing-durable_goods'),\n",
    "                          fn.when(fn.col(\"major_industry_code\")=='Construction',1).otherwise(0).alias('Industry_code_Construction'),\n",
    "                          fn.when(fn.col(\"major_industry_code\")=='Public administration',1).otherwise(0).alias('Industry_code_Public_administration'),\n",
    "                          fn.when(fn.col(\"major_industry_code\")=='Agriculture',1).otherwise(0).alias('Industry_code_Agriculture'),                        \n",
    "                          fn.when(fn.col(\"major_industry_code\")=='Personal services except private HH',1).otherwise(0).alias('Industry_code_Personal_services_except_private_HH'),\n",
    "                          fn.when(fn.col(\"major_industry_code\")=='Entertainment',1).otherwise(0).alias('Industry_code_Entertainment'),\n",
    "                          fn.when(fn.col(\"major_industry_code\")=='Mining',1).otherwise(0).alias('Industry_code_Mining'),\n",
    "                          fn.when(fn.col(\"major_industry_code\")=='Medical except hospital',1).otherwise(0).alias('Industry_code_Medical_except_hospital'),\n",
    "                          fn.when(fn.col(\"major_industry_code\")=='Wholesale trade',1).otherwise(0).alias('Industry_code_Wholesale_trade'),\n",
    "                          fn.when(fn.col(\"major_industry_code\")=='Social services',1).otherwise(0).alias('Industry_code_Social_services'),\n",
    "                          fn.when(fn.col(\"major_industry_code\")=='Forestry and fisheries',1).otherwise(0).alias('Industry_code_Forestry_and_fisheries'),\n",
    "                          fn.when(fn.col(\"major_industry_code\")=='Armed Forces',1).otherwise(0).alias('Industry_code_Armed_Forces'),\n",
    "                          fn.when(fn.col(\"major_industry_code\")=='Private household services',1).otherwise(0).alias('Industry_code_Private_household_services'),\n",
    "\n",
    "                          fn.when(fn.col(\"major_occupation_code\")=='Executive admin and managerial',1).otherwise(0).alias('Occupation_code_Executive_admin_and_managerial'),\n",
    "                          fn.when(fn.col(\"major_occupation_code\")=='Precision production craft & repair',1).otherwise(0).alias('Occupation_code_Precision_production_craft_&_repair'),\n",
    "                          fn.when(fn.col(\"major_occupation_code\")=='Sales',1).otherwise(0).alias('Occupation_code_Sales'),\n",
    "                          fn.when(fn.col(\"major_occupation_code\")=='Not in universe',1).otherwise(0).alias('Occupation_code_Not_in_universe'),\n",
    "                          fn.when(fn.col(\"major_occupation_code\")=='Professional specialty',1).otherwise(0).alias('Occupation_code_Professional_specialty'),\n",
    "                          fn.when(fn.col(\"major_occupation_code\")=='Other service',1).otherwise(0).alias('Occupation_code_Other_service'),\n",
    "                          fn.when(fn.col(\"major_occupation_code\")=='Technicians and related support',1).otherwise(0).alias('Occupation_code_Technicians_and_related_support'),\n",
    "                          fn.when(fn.col(\"major_occupation_code\")=='Adm support including clerical',1).otherwise(0).alias('Occupation_code_Adm_support_including_clerical'),\n",
    "                          fn.when(fn.col(\"major_occupation_code\")=='Farming forestry and fishing',1).otherwise(0).alias('Occupation_code_Farming_forestry_and_fishing'),\n",
    "                          fn.when(fn.col(\"major_occupation_code\")=='Machine operators assmblrs & inspctrs',1).otherwise(0).alias('Occupation_code_Machine_operators_assmblrs_&_inspctrs'),\n",
    "                          fn.when(fn.col(\"major_occupation_code\")=='Transportation and material moving',1).otherwise(0).alias('Occupation_code_Transportation_and_material_moving'),\n",
    "                          fn.when(fn.col(\"major_occupation_code\")=='Protective services',1).otherwise(0).alias('Occupation_code_Protective_services'),\n",
    "                          fn.when(fn.col(\"major_occupation_code\")=='Handlers equip cleaners etc',1).otherwise(0).alias('Occupation_code_Handlers_equip_cleaners_etc'),\n",
    "                          fn.when(fn.col(\"major_occupation_code\")=='Armed Forces',1).otherwise(0).alias('Occupation_code_Armed_Forces'),\n",
    "                          fn.when(fn.col(\"major_occupation_code\")=='Private household services',1).otherwise(0).alias('Occupation_code_Private_household_services'),\n",
    "    \n",
    "                          fn.when(fn.col(\"race\")=='Amer Indian Aleut or Eskimo',1).otherwise(0).alias('race_Amer_Indian_Aleut_or_Eskimo'),\n",
    "                          fn.when(fn.col(\"race\")=='Asian or Pacific Islander',1).otherwise(0).alias('race_Asian_or_Pacific_Islander'),\n",
    "                          fn.when(fn.col(\"race\")=='Black',1).otherwise(0).alias('race_Black'),\n",
    "                          fn.when(fn.col(\"race\")=='Other',1).otherwise(0).alias('race_Other'),\n",
    "                          fn.when(fn.col(\"race\")=='White',1).otherwise(0).alias('race_White'),\n",
    "                          \n",
    "                          'sex',\n",
    "                        \n",
    "                          fn.when(fn.col(\"full_parttime_employment_stat\")=='Children or Armed Forces',1).otherwise(0).alias('full_parttime_employment_stat_Male_1'),\n",
    "                          fn.when(fn.col(\"full_parttime_employment_stat\")=='Full-time schedules',1).otherwise(0).alias('full_parttime_employment_stat_Full-time_schedules'),\n",
    "                          fn.when(fn.col(\"full_parttime_employment_stat\")=='Not in labor force',1).otherwise(0).alias('full_parttime_employment_stat_Not_in_labor_force'),\n",
    "                          fn.when(fn.col(\"full_parttime_employment_stat\")=='PT for non-econ reasons usually FT',1).otherwise(0).alias('full_parttime_employment_stat_PT_for_non-econ_reasons_usually_FT'),\n",
    "                          fn.when(fn.col(\"full_parttime_employment_stat\")=='PT for econ reasons usually PT',1).otherwise(0).alias('full_parttime_employment_stat_PT_for_econ_reasons_usually_PT'),\n",
    "                          fn.when(fn.col(\"full_parttime_employment_stat\")=='PT for econ reasons usually FT',1).otherwise(0).alias('full_parttime_employment_stat_PT_for_econ_reasons_usually_FT'),\n",
    "                          fn.when(fn.col(\"full_parttime_employment_stat\")=='Unemployed full-time',1).otherwise(0).alias('full_parttime_employment_stat_Unemployed_full-time'),\n",
    "                          fn.when(fn.col(\"full_parttime_employment_stat\")=='Unemployed part-time',1).otherwise(0).alias('full_parttime_employment_stat_Unemployed part-time'),\n",
    "                          fn.when(fn.col(\"full_parttime_employment_stat\")=='Male',1).otherwise(0).alias('full_parttime_employment_stat_Male_2'),\n",
    "                          fn.when(fn.col(\"full_parttime_employment_stat\")=='Male',1).otherwise(0).alias('full_parttime_employment_stat_Male_3'),\n",
    "                          fn.when(fn.col(\"full_parttime_employment_stat\")=='Male',1).otherwise(0).alias('full_parttime_employment_stat_Male_4'),\n",
    "    \n",
    "                          fn.when(fn.col(\"tax_filer_status\")=='Head of household',1).otherwise(0).alias('Tax_Status_Household_Head'),\n",
    "                          fn.when(fn.col(\"tax_filer_status\")=='Joint both 65+',1).otherwise(0).alias('Tax_Status_65plus'),\n",
    "                          fn.when(fn.col(\"tax_filer_status\")=='Joint both under 65',1).otherwise(0).alias('Tax_Status_under65'),\n",
    "                          fn.when(fn.col(\"tax_filer_status\")=='Joint one under 65 & one 65+',1).otherwise(0).alias('Tax_Status_65plus_65under'),\n",
    "                          fn.when(fn.col(\"tax_filer_status\")=='Nonfiler',1).otherwise(0).alias('Tax_Status_Nonfiler'),\n",
    "                          fn.when(fn.col(\"tax_filer_status\")=='Single',1).otherwise(0).alias('Tax_Status_Single'),    \n",
    "    \n",
    "                          fn.when(fn.col(\"d_household_family_stat\")=='Child 18+ ever marr RP of subfamily',1).otherwise(0).alias('Household_1'),\n",
    "                          fn.when(fn.col(\"d_household_family_stat\")=='Householder',1).otherwise(0).alias('Household_2'),\n",
    "                          fn.when(fn.col(\"d_household_family_stat\")=='In group quarters',1).otherwise(0).alias('Household_3'),\n",
    "                          fn.when(fn.col(\"d_household_family_stat\")=='Other Rel 18+ ever marr RP of subfamily',1).otherwise(0).alias('Household_4'),\n",
    "                          fn.when(fn.col(\"d_household_family_stat\")=='Other Rel 18+ spouse of subfamily RP',1).otherwise(0).alias('Household_5'),\n",
    "                          fn.when(fn.col(\"d_household_family_stat\")=='RP of unrelated subfamily',1).otherwise(0).alias('Household_6'),\n",
    "                          fn.when(fn.col(\"d_household_family_stat\")=='Spouse of householder',1).otherwise(0).alias('Household_7'),\n",
    "                          fn.when(fn.col(\"d_household_family_stat\")=='Spouse of RP of unrelated subfamily',1).otherwise(0).alias('Household_8'),\n",
    "    \n",
    "                          fn.when(fn.col(\"citizenship\")=='Foreign born- Not a citizen of U S',1).otherwise(0).alias('Citizenship_1'),\n",
    "                          fn.when(fn.col(\"citizenship\")=='Foreign born- U S citizen by naturalization',1).otherwise(0).alias('Citizenship_2'),\n",
    "                          fn.when(fn.col(\"citizenship\")=='Native- Born abroad of American Parent(s)',1).otherwise(0).alias('Citizenship_3'),\n",
    "                          fn.when(fn.col(\"citizenship\")=='Native- Born in Puerto Rico or U S Outlying',1).otherwise(0).alias('Citizenship_4'),\n",
    "                          fn.when(fn.col(\"citizenship\")=='Native- Born in the United States',1).otherwise(0).alias('Citizenship_5'),\n",
    "    \n",
    "                        \n",
    "                          'capital_gains', 'capital_losses','dividend_from_Stocks','num_person_Worked_employer','business_or_self_employed',\n",
    "                          'veterans_benefits','weeks_worked_in_year','income_level','bucket_ages')\n",
    "    \n",
    "\n"
   ]
  },
  {
   "cell_type": "code",
   "execution_count": 19,
   "metadata": {},
   "outputs": [],
   "source": [
    "# Converting income_level to numerical i.e. 1 and 0\n",
    "\n",
    "dummy_df=dummy_df.withColumn(\"income_level1\", fn.when((fn.col('income_level') == \"-50000\"),0).otherwise(1))"
   ]
  },
  {
   "cell_type": "code",
   "execution_count": 20,
   "metadata": {},
   "outputs": [
    {
     "data": {
      "text/plain": [
       "['Class_Fed_Government',\n",
       " 'Class_Local_Government',\n",
       " 'Class_Never_Worked',\n",
       " 'Class_Private',\n",
       " 'Class_Self_Employed_NI',\n",
       " 'Class_Self_Employed_I',\n",
       " 'Class_State_Government',\n",
       " 'Class_Without_Pay',\n",
       " 'Class_NI_Universe',\n",
       " 'education_10th_grade',\n",
       " 'education_11th_grade',\n",
       " 'education_12th_grade_no_diploma',\n",
       " 'edu_1st_to_4th',\n",
       " 'education_5th_to_6th',\n",
       " 'education_7th_to_8th',\n",
       " 'education_9th_grade',\n",
       " 'education_associate_degree',\n",
       " 'education_occup_vocational',\n",
       " 'education_bachelors_degree',\n",
       " 'education_child',\n",
       " 'education_phd',\n",
       " 'education_high_school_grad',\n",
       " 'education_less_than_1st_grade',\n",
       " 'education_masters',\n",
       " 'education_profesional_deg',\n",
       " 'education_some_college',\n",
       " 'wage_per_hour',\n",
       " 'Marital_Status_Married_Civilian_Spouse',\n",
       " 'Marital_Status_Married_A_F_Spouse',\n",
       " 'Marital_Status_Married_Spouse_Absent',\n",
       " 'Marital_Status_Never_Married',\n",
       " 'Marital_Status_Separated',\n",
       " 'Marital_Status_Widowed',\n",
       " 'Marital_Status_Divorced',\n",
       " 'Industry_code_Business_and_repair_services',\n",
       " 'Industry_code_Utilities_and_sanitary_services',\n",
       " 'Industry_code_Communications',\n",
       " 'Industry_code_Finance_insurance_and_real_estate',\n",
       " 'Industry_code_Not_in_universe_or_children',\n",
       " 'Industry_code_Other_professional_services',\n",
       " 'Industry_code_Transportation',\n",
       " 'Industry_code_Retail_trade',\n",
       " 'Industry_code_Manufacturing-nondurable_goods',\n",
       " 'Industry_code_Education',\n",
       " 'Industry_code_Hospital_services',\n",
       " 'Industry_code_Manufacturing-durable_goods',\n",
       " 'Industry_code_Construction',\n",
       " 'Industry_code_Public_administration',\n",
       " 'Industry_code_Agriculture',\n",
       " 'Industry_code_Personal_services_except_private_HH',\n",
       " 'Industry_code_Entertainment',\n",
       " 'Industry_code_Mining',\n",
       " 'Industry_code_Medical_except_hospital',\n",
       " 'Industry_code_Wholesale_trade',\n",
       " 'Industry_code_Social_services',\n",
       " 'Industry_code_Forestry_and_fisheries',\n",
       " 'Industry_code_Armed_Forces',\n",
       " 'Industry_code_Private_household_services',\n",
       " 'Occupation_code_Executive_admin_and_managerial',\n",
       " 'Occupation_code_Precision_production_craft_&_repair',\n",
       " 'Occupation_code_Sales',\n",
       " 'Occupation_code_Not_in_universe',\n",
       " 'Occupation_code_Professional_specialty',\n",
       " 'Occupation_code_Other_service',\n",
       " 'Occupation_code_Technicians_and_related_support',\n",
       " 'Occupation_code_Adm_support_including_clerical',\n",
       " 'Occupation_code_Farming_forestry_and_fishing',\n",
       " 'Occupation_code_Machine_operators_assmblrs_&_inspctrs',\n",
       " 'Occupation_code_Transportation_and_material_moving',\n",
       " 'Occupation_code_Protective_services',\n",
       " 'Occupation_code_Handlers_equip_cleaners_etc',\n",
       " 'Occupation_code_Armed_Forces',\n",
       " 'Occupation_code_Private_household_services',\n",
       " 'race_Amer_Indian_Aleut_or_Eskimo',\n",
       " 'race_Asian_or_Pacific_Islander',\n",
       " 'race_Black',\n",
       " 'race_Other',\n",
       " 'race_White',\n",
       " 'sex',\n",
       " 'full_parttime_employment_stat_Male_1',\n",
       " 'full_parttime_employment_stat_Full-time_schedules',\n",
       " 'full_parttime_employment_stat_Not_in_labor_force',\n",
       " 'full_parttime_employment_stat_PT_for_non-econ_reasons_usually_FT',\n",
       " 'full_parttime_employment_stat_PT_for_econ_reasons_usually_PT',\n",
       " 'full_parttime_employment_stat_PT_for_econ_reasons_usually_FT',\n",
       " 'full_parttime_employment_stat_Unemployed_full-time',\n",
       " 'full_parttime_employment_stat_Unemployed part-time',\n",
       " 'full_parttime_employment_stat_Male_2',\n",
       " 'full_parttime_employment_stat_Male_3',\n",
       " 'full_parttime_employment_stat_Male_4',\n",
       " 'Tax_Status_Household_Head',\n",
       " 'Tax_Status_65plus',\n",
       " 'Tax_Status_under65',\n",
       " 'Tax_Status_65plus_65under',\n",
       " 'Tax_Status_Nonfiler',\n",
       " 'Tax_Status_Single',\n",
       " 'Household_1',\n",
       " 'Household_2',\n",
       " 'Household_3',\n",
       " 'Household_4',\n",
       " 'Household_5',\n",
       " 'Household_6',\n",
       " 'Household_7',\n",
       " 'Household_8',\n",
       " 'Citizenship_1',\n",
       " 'Citizenship_2',\n",
       " 'Citizenship_3',\n",
       " 'Citizenship_4',\n",
       " 'Citizenship_5',\n",
       " 'capital_gains',\n",
       " 'capital_losses',\n",
       " 'dividend_from_Stocks',\n",
       " 'num_person_Worked_employer',\n",
       " 'business_or_self_employed',\n",
       " 'veterans_benefits',\n",
       " 'weeks_worked_in_year',\n",
       " 'income_level',\n",
       " 'bucket_ages',\n",
       " 'income_level1']"
      ]
     },
     "execution_count": 20,
     "metadata": {},
     "output_type": "execute_result"
    }
   ],
   "source": [
    "# List of columns in the updated data frame i.e. dummy_df\n",
    "dummy_df.columns"
   ]
  },
  {
   "cell_type": "markdown",
   "metadata": {},
   "source": [
    "# IMPLEMENTING MACHINE LEARNING MODELS"
   ]
  },
  {
   "cell_type": "code",
   "execution_count": 21,
   "metadata": {},
   "outputs": [
    {
     "name": "stdout",
     "output_type": "stream",
     "text": [
      "# points in training:  119690\n",
      "# points in validation:  59844\n",
      "# points in testing:  19989\n"
     ]
    }
   ],
   "source": [
    "# Creating training, testing and validation data\n",
    "training_df, validation_df, testing_df = dummy_df.randomSplit([0.6, 0.3, 0.1], seed=0)\n",
    "print(\"# points in training: \", training_df.count())\n",
    "print(\"# points in validation: \", validation_df.count())\n",
    "print(\"# points in testing: \", testing_df.count())"
   ]
  },
  {
   "cell_type": "markdown",
   "metadata": {},
   "source": [
    "## DECLARING INPUT FEATURES FOR MODEL1, MODEL2, MODEL3"
   ]
  },
  {
   "cell_type": "code",
   "execution_count": 22,
   "metadata": {},
   "outputs": [],
   "source": [
    "# Model 1 Features\n",
    "\n",
    "x = ['Class_Fed_Government',\n",
    " 'Class_Local_Government',\n",
    " 'Class_Never_Worked',\n",
    " 'Class_Private',\n",
    " 'Class_Self_Employed_NI',\n",
    " 'Class_Self_Employed_I',\n",
    " 'Class_State_Government',\n",
    " 'Class_Without_Pay',\n",
    " 'Class_NI_Universe',\n",
    " 'education_10th_grade',\n",
    " 'education_11th_grade',\n",
    " 'education_12th_grade_no_diploma',\n",
    " 'edu_1st_to_4th',\n",
    " 'education_5th_to_6th',\n",
    " 'education_7th_to_8th',\n",
    " 'education_9th_grade',\n",
    " 'education_associate_degree',\n",
    " 'education_occup_vocational',\n",
    " 'education_bachelors_degree',\n",
    " 'education_child',\n",
    " 'education_phd',\n",
    " 'education_high_school_grad',\n",
    " 'education_less_than_1st_grade',\n",
    " 'education_masters',\n",
    " 'education_profesional_deg',\n",
    " 'education_some_college',\n",
    " 'wage_per_hour','Industry_code_Business_and_repair_services',\n",
    " 'Industry_code_Utilities_and_sanitary_services',\n",
    " 'Industry_code_Communications',\n",
    " 'Industry_code_Finance_insurance_and_real_estate',\n",
    " 'Industry_code_Not_in_universe_or_children',\n",
    " 'Industry_code_Other_professional_services',\n",
    " 'Industry_code_Transportation',\n",
    " 'Industry_code_Retail_trade',\n",
    " 'Industry_code_Manufacturing-nondurable_goods',\n",
    " 'Industry_code_Education',\n",
    " 'Industry_code_Hospital_services',\n",
    " 'Industry_code_Manufacturing-durable_goods',\n",
    " 'Industry_code_Construction',\n",
    " 'Industry_code_Public_administration',\n",
    " 'Industry_code_Agriculture',\n",
    " 'Industry_code_Personal_services_except_private_HH',\n",
    " 'Industry_code_Entertainment',\n",
    " 'Industry_code_Mining',\n",
    " 'Industry_code_Medical_except_hospital',\n",
    " 'Industry_code_Wholesale_trade',\n",
    " 'Industry_code_Social_services',\n",
    " 'Industry_code_Forestry_and_fisheries',\n",
    " 'Industry_code_Armed_Forces',\n",
    " 'Industry_code_Private_household_services']"
   ]
  },
  {
   "cell_type": "code",
   "execution_count": 23,
   "metadata": {},
   "outputs": [],
   "source": [
    "# Model 2 Features\n",
    "\n",
    "x1= ['race_Amer_Indian_Aleut_or_Eskimo',\n",
    " 'race_Asian_or_Pacific_Islander',\n",
    " 'race_Black',\n",
    " 'race_Other',\n",
    " 'race_White',\n",
    " 'sex',\n",
    " 'full_parttime_employment_stat_Male_1',\n",
    " 'full_parttime_employment_stat_Full-time_schedules',\n",
    " 'full_parttime_employment_stat_Not_in_labor_force',\n",
    " 'full_parttime_employment_stat_PT_for_non-econ_reasons_usually_FT',\n",
    " 'full_parttime_employment_stat_PT_for_econ_reasons_usually_PT',\n",
    " 'full_parttime_employment_stat_PT_for_econ_reasons_usually_FT',\n",
    " 'full_parttime_employment_stat_Unemployed_full-time',\n",
    " 'full_parttime_employment_stat_Unemployed part-time',\n",
    " 'full_parttime_employment_stat_Male_2',\n",
    " 'full_parttime_employment_stat_Male_3',\n",
    " 'full_parttime_employment_stat_Male_4',\n",
    " 'Tax_Status_Household_Head',\n",
    " 'Tax_Status_65plus',\n",
    " 'Tax_Status_under65',\n",
    " 'Tax_Status_65plus_65under',\n",
    " 'Tax_Status_Nonfiler',\n",
    " 'Tax_Status_Single',\n",
    " 'Household_1',\n",
    " 'Household_2',\n",
    " 'Household_3',\n",
    " 'Household_4',\n",
    " 'Household_5',\n",
    " 'Household_6',\n",
    " 'Household_7',\n",
    " 'Household_8',\n",
    " 'Citizenship_1',\n",
    " 'Citizenship_2',\n",
    " 'Citizenship_3',\n",
    " 'Citizenship_4',\n",
    " 'Citizenship_5',\n",
    " 'capital_gains',\n",
    " 'capital_losses',\n",
    " 'dividend_from_Stocks',\n",
    " 'num_person_Worked_employer',\n",
    " 'business_or_self_employed',\n",
    " 'veterans_benefits',\n",
    " 'weeks_worked_in_year',\n",
    " 'bucket_ages']"
   ]
  },
  {
   "cell_type": "code",
   "execution_count": 24,
   "metadata": {},
   "outputs": [],
   "source": [
    "# Model 3 Features\n",
    "\n",
    "x2= ['education_10th_grade',\n",
    " 'education_11th_grade',\n",
    " 'education_12th_grade_no_diploma',\n",
    " 'edu_1st_to_4th',\n",
    " 'education_5th_to_6th',\n",
    " 'education_7th_to_8th',\n",
    " 'education_9th_grade',\n",
    " 'education_associate_degree',\n",
    " 'education_occup_vocational',\n",
    " 'education_bachelors_degree',\n",
    " 'education_child',\n",
    " 'education_phd',\n",
    " 'education_high_school_grad',\n",
    " 'education_less_than_1st_grade',\n",
    " 'education_masters',\n",
    " 'education_profesional_deg',\n",
    " 'education_some_college',\n",
    " 'wage_per_hour','Industry_code_Business_and_repair_services',\n",
    " 'Industry_code_Utilities_and_sanitary_services',\n",
    " 'Industry_code_Communications',\n",
    " 'Industry_code_Finance_insurance_and_real_estate',\n",
    " 'Industry_code_Not_in_universe_or_children',\n",
    " 'Industry_code_Other_professional_services',\n",
    " 'Industry_code_Transportation',\n",
    " 'Industry_code_Retail_trade',\n",
    " 'Industry_code_Manufacturing-nondurable_goods',\n",
    " 'Industry_code_Education',\n",
    " 'Industry_code_Hospital_services',\n",
    " 'Industry_code_Manufacturing-durable_goods',\n",
    " 'Industry_code_Construction',\n",
    " 'Industry_code_Public_administration',\n",
    " 'Industry_code_Agriculture',\n",
    " 'Industry_code_Personal_services_except_private_HH',\n",
    " 'Industry_code_Entertainment',\n",
    " 'Industry_code_Mining',\n",
    " 'Industry_code_Medical_except_hospital',\n",
    " 'Industry_code_Wholesale_trade',\n",
    " 'Industry_code_Social_services',\n",
    " 'Industry_code_Forestry_and_fisheries',\n",
    " 'Industry_code_Armed_Forces',\n",
    " 'Industry_code_Private_household_services',\n",
    " 'Occupation_code_Executive_admin_and_managerial',\n",
    " 'Occupation_code_Precision_production_craft_&_repair',\n",
    " 'Occupation_code_Sales',\n",
    " 'Occupation_code_Not_in_universe',\n",
    " 'Occupation_code_Professional_specialty',\n",
    " 'Occupation_code_Other_service',\n",
    " 'Occupation_code_Technicians_and_related_support',\n",
    " 'Occupation_code_Adm_support_including_clerical',\n",
    " 'Occupation_code_Farming_forestry_and_fishing',\n",
    " 'Occupation_code_Machine_operators_assmblrs_&_inspctrs',\n",
    " 'Occupation_code_Transportation_and_material_moving',\n",
    " 'Occupation_code_Protective_services',\n",
    " 'Occupation_code_Handlers_equip_cleaners_etc',\n",
    " 'Occupation_code_Armed_Forces',\n",
    " 'Occupation_code_Private_household_services']"
   ]
  },
  {
   "cell_type": "code",
   "execution_count": 25,
   "metadata": {},
   "outputs": [],
   "source": [
    "# Importing Logistic Regression and RandomForest in PySpark\n",
    "\n",
    "from pyspark.ml.classification import LogisticRegression, RandomForestClassifier\n"
   ]
  },
  {
   "cell_type": "markdown",
   "metadata": {},
   "source": [
    "# LOGISTIC REGRESSION MODELS"
   ]
  },
  {
   "cell_type": "code",
   "execution_count": 26,
   "metadata": {},
   "outputs": [],
   "source": [
    "# Logistic Regression 1\n",
    "pipe_lr1 = Pipeline(stages=[VectorAssembler().setInputCols(x).setOutputCol('features'),\n",
    "                            LogisticRegression().setLabelCol('income_level1').\\\n",
    "                            setFeaturesCol('features').setRegParam(0.0).\\\n",
    "                            setMaxIter(100).setElasticNetParam(0.)]).fit(training_df)\n",
    "\n",
    "# Logistic Regression 2\n",
    "pipe_lr2 = Pipeline(stages=[VectorAssembler().setInputCols(x1).setOutputCol('features'),\n",
    "                            LogisticRegression().setLabelCol('income_level1').\\\n",
    "                            setFeaturesCol('features').setRegParam(0.0).\\\n",
    "                            setMaxIter(100).setElasticNetParam(0.)]).fit(training_df)\n",
    "\n",
    "# Logistic Regression 3\n",
    "pipe_lr3 = Pipeline(stages=[VectorAssembler().setInputCols(x2).setOutputCol('features'),\n",
    "                            LogisticRegression().setLabelCol('income_level1').\\\n",
    "                            setFeaturesCol('features').setRegParam(0.0).\\\n",
    "                            setMaxIter(100).setElasticNetParam(0.)]).fit(training_df)\n",
    "\n",
    "\n",
    "\n",
    "                            \n",
    "       "
   ]
  },
  {
   "cell_type": "code",
   "execution_count": 27,
   "metadata": {},
   "outputs": [
    {
     "name": "stdout",
     "output_type": "stream",
     "text": [
      "AUC Pipeline 2:  0.8908397723968435\n",
      "AUC Pipeline 2:  0.9056066809078205\n",
      "AUC Pipeline 3:  0.9004195855605667\n"
     ]
    }
   ],
   "source": [
    "# Logistic Regression 1 AUC\n",
    "evaluator = evaluation.BinaryClassificationEvaluator(labelCol='income_level1')\n",
    "print(\"AUC Pipeline 2: \", evaluator.evaluate(pipe_lr1.transform(validation_df)))\n",
    "\n",
    "# Logistic Regression 2 AUC\n",
    "evaluator = evaluation.BinaryClassificationEvaluator(labelCol='income_level1')\n",
    "print(\"AUC Pipeline 2: \", evaluator.evaluate(pipe_lr2.transform(validation_df)))\n",
    "\n",
    "# Logistic Regression 3 AUC\n",
    "evaluator = evaluation.BinaryClassificationEvaluator(labelCol='income_level1')\n",
    "print(\"AUC Pipeline 3: \", evaluator.evaluate(pipe_lr3.transform(validation_df)))"
   ]
  },
  {
   "cell_type": "markdown",
   "metadata": {},
   "source": [
    "# RANDOM FOREST MODELS"
   ]
  },
  {
   "cell_type": "code",
   "execution_count": 28,
   "metadata": {},
   "outputs": [],
   "source": [
    "# Random forest 1\n",
    "\n",
    "pipe_rf1 = Pipeline(stages=[VectorAssembler().setInputCols(x).setOutputCol('features'),\n",
    "                            RandomForestClassifier(labelCol=\"income_level1\", featuresCol=\"features\",maxDepth=1, numTrees=60) ]).fit(training_df)\n",
    "\n",
    "# Random Forest 2\n",
    "pipe_rf2 = Pipeline(stages=[VectorAssembler().setInputCols(x1).setOutputCol('features'),\n",
    "                            RandomForestClassifier(labelCol=\"income_level1\", featuresCol=\"features\",maxDepth=1, numTrees=60) ]).fit(training_df)\n",
    "\n",
    "# Random Forest 3\n",
    "pipe_rf3 = Pipeline(stages=[VectorAssembler().setInputCols(x2).setOutputCol('features'),\n",
    "                            RandomForestClassifier(labelCol=\"income_level1\", featuresCol=\"features\",maxDepth=1, numTrees=60) ]).fit(training_df)"
   ]
  },
  {
   "cell_type": "code",
   "execution_count": 29,
   "metadata": {},
   "outputs": [
    {
     "name": "stdout",
     "output_type": "stream",
     "text": [
      "AUC Pipeline 1:  0.8647495106659737\n",
      "AUC Pipeline 2:  0.8923340682043859\n",
      "AUC Pipeline 3:  0.8710581277975753\n"
     ]
    }
   ],
   "source": [
    "# Random forest 1 AUC\n",
    "evaluator = evaluation.BinaryClassificationEvaluator(labelCol='income_level1')\n",
    "print(\"AUC Pipeline 1: \", evaluator.evaluate(pipe_rf1.transform(validation_df)))\n",
    "\n",
    "# Random forest 2 AUC\n",
    "evaluator = evaluation.BinaryClassificationEvaluator(labelCol='income_level1')\n",
    "print(\"AUC Pipeline 2: \", evaluator.evaluate(pipe_rf2.transform(validation_df)))\n",
    "\n",
    "# Random forest 3 AUC\n",
    "evaluator = evaluation.BinaryClassificationEvaluator(labelCol='income_level1')\n",
    "print(\"AUC Pipeline 3: \", evaluator.evaluate(pipe_rf3.transform(validation_df)))"
   ]
  },
  {
   "cell_type": "markdown",
   "metadata": {},
   "source": [
    "# AUC - LOGISTIC REGRESSION"
   ]
  },
  {
   "cell_type": "code",
   "execution_count": 30,
   "metadata": {},
   "outputs": [
    {
     "name": "stdout",
     "output_type": "stream",
     "text": [
      "AUC Pipeline 1:  0.8908397723968434\n",
      "AUC Pipeline 2:  0.9056066809078205\n",
      "AUC Pipeline 3:  0.9004195855605668\n"
     ]
    }
   ],
   "source": [
    "# AUC - Logistic Regression\n",
    "print(\"AUC Pipeline 1: \", evaluator.evaluate(pipe_lr1.transform(validation_df)))\n",
    "print(\"AUC Pipeline 2: \", evaluator.evaluate(pipe_lr2.transform(validation_df)))\n",
    "print(\"AUC Pipeline 3: \", evaluator.evaluate(pipe_lr3.transform(validation_df)))"
   ]
  },
  {
   "cell_type": "markdown",
   "metadata": {},
   "source": [
    "# AUC - RANDOM FOREST"
   ]
  },
  {
   "cell_type": "code",
   "execution_count": 31,
   "metadata": {},
   "outputs": [
    {
     "name": "stdout",
     "output_type": "stream",
     "text": [
      "AUC Pipeline 1:  0.8647495106659737\n",
      "AUC Pipeline 2:  0.892334068204386\n",
      "AUC Pipeline 3:  0.8710581277975753\n"
     ]
    }
   ],
   "source": [
    "# AUC - Random Forest\n",
    "print(\"AUC Pipeline 1: \", evaluator.evaluate(pipe_rf1.transform(validation_df)))\n",
    "print(\"AUC Pipeline 2: \", evaluator.evaluate(pipe_rf2.transform(validation_df)))\n",
    "print(\"AUC Pipeline 3: \", evaluator.evaluate(pipe_rf3.transform(validation_df)))"
   ]
  },
  {
   "cell_type": "markdown",
   "metadata": {},
   "source": [
    "# BEST MODEL LOGISTIC REGRESSION"
   ]
  },
  {
   "cell_type": "code",
   "execution_count": 32,
   "metadata": {},
   "outputs": [],
   "source": [
    "# Best Model Logistic Regression\n",
    "best_model_lr = pipe_lr2"
   ]
  },
  {
   "cell_type": "markdown",
   "metadata": {},
   "source": [
    "## ANALYZING THE AUC"
   ]
  },
  {
   "cell_type": "code",
   "execution_count": 33,
   "metadata": {},
   "outputs": [
    {
     "name": "stdout",
     "output_type": "stream",
     "text": [
      "AUC Best Model:  0.9019312224990005\n"
     ]
    }
   ],
   "source": [
    "# AUC Best Model Logistic Regression on Testing DF\n",
    "AUC_best = evaluator.evaluate(best_model_lr.transform(testing_df))\n",
    "print(\"AUC Best Model: \", AUC_best)"
   ]
  },
  {
   "cell_type": "markdown",
   "metadata": {},
   "source": [
    "## COEFFICIENTS OF MODEL"
   ]
  },
  {
   "cell_type": "code",
   "execution_count": 34,
   "metadata": {},
   "outputs": [],
   "source": [
    "# Coefficients of features\n",
    "coef = best_model_lr.stages[-1].coefficients"
   ]
  },
  {
   "cell_type": "code",
   "execution_count": 35,
   "metadata": {},
   "outputs": [],
   "source": [
    "# Dataframe with coefficient values and feature names\n",
    "coef_pd = pd.DataFrame(\n",
    "    {'Variables': x1,\n",
    "     'Coefficients': coef,\n",
    "    })\n"
   ]
  },
  {
   "cell_type": "code",
   "execution_count": 36,
   "metadata": {},
   "outputs": [
    {
     "data": {
      "text/html": [
       "<div>\n",
       "<style scoped>\n",
       "    .dataframe tbody tr th:only-of-type {\n",
       "        vertical-align: middle;\n",
       "    }\n",
       "\n",
       "    .dataframe tbody tr th {\n",
       "        vertical-align: top;\n",
       "    }\n",
       "\n",
       "    .dataframe thead th {\n",
       "        text-align: right;\n",
       "    }\n",
       "</style>\n",
       "<table border=\"1\" class=\"dataframe\">\n",
       "  <thead>\n",
       "    <tr style=\"text-align: right;\">\n",
       "      <th></th>\n",
       "      <th>Variables</th>\n",
       "      <th>Coefficients</th>\n",
       "    </tr>\n",
       "  </thead>\n",
       "  <tbody>\n",
       "    <tr>\n",
       "      <th>0</th>\n",
       "      <td>race_Amer_Indian_Aleut_or_Eskimo</td>\n",
       "      <td>-2.218068</td>\n",
       "    </tr>\n",
       "    <tr>\n",
       "      <th>1</th>\n",
       "      <td>race_Asian_or_Pacific_Islander</td>\n",
       "      <td>-0.908297</td>\n",
       "    </tr>\n",
       "    <tr>\n",
       "      <th>2</th>\n",
       "      <td>race_Black</td>\n",
       "      <td>-2.094692</td>\n",
       "    </tr>\n",
       "    <tr>\n",
       "      <th>3</th>\n",
       "      <td>race_Other</td>\n",
       "      <td>-2.024640</td>\n",
       "    </tr>\n",
       "    <tr>\n",
       "      <th>4</th>\n",
       "      <td>race_White</td>\n",
       "      <td>-1.501789</td>\n",
       "    </tr>\n",
       "    <tr>\n",
       "      <th>5</th>\n",
       "      <td>sex</td>\n",
       "      <td>1.235799</td>\n",
       "    </tr>\n",
       "    <tr>\n",
       "      <th>6</th>\n",
       "      <td>full_parttime_employment_stat_Male_1</td>\n",
       "      <td>0.519970</td>\n",
       "    </tr>\n",
       "    <tr>\n",
       "      <th>7</th>\n",
       "      <td>full_parttime_employment_stat_Full-time_schedules</td>\n",
       "      <td>0.681269</td>\n",
       "    </tr>\n",
       "    <tr>\n",
       "      <th>8</th>\n",
       "      <td>full_parttime_employment_stat_Not_in_labor_force</td>\n",
       "      <td>0.611731</td>\n",
       "    </tr>\n",
       "    <tr>\n",
       "      <th>9</th>\n",
       "      <td>full_parttime_employment_stat_PT_for_non-econ_...</td>\n",
       "      <td>0.638815</td>\n",
       "    </tr>\n",
       "    <tr>\n",
       "      <th>10</th>\n",
       "      <td>full_parttime_employment_stat_PT_for_econ_reas...</td>\n",
       "      <td>0.796920</td>\n",
       "    </tr>\n",
       "    <tr>\n",
       "      <th>11</th>\n",
       "      <td>full_parttime_employment_stat_PT_for_econ_reas...</td>\n",
       "      <td>0.232518</td>\n",
       "    </tr>\n",
       "    <tr>\n",
       "      <th>12</th>\n",
       "      <td>full_parttime_employment_stat_Unemployed_full-...</td>\n",
       "      <td>0.383912</td>\n",
       "    </tr>\n",
       "    <tr>\n",
       "      <th>13</th>\n",
       "      <td>full_parttime_employment_stat_Unemployed part-...</td>\n",
       "      <td>0.000000</td>\n",
       "    </tr>\n",
       "    <tr>\n",
       "      <th>14</th>\n",
       "      <td>full_parttime_employment_stat_Male_2</td>\n",
       "      <td>0.000000</td>\n",
       "    </tr>\n",
       "    <tr>\n",
       "      <th>15</th>\n",
       "      <td>full_parttime_employment_stat_Male_3</td>\n",
       "      <td>0.000000</td>\n",
       "    </tr>\n",
       "    <tr>\n",
       "      <th>16</th>\n",
       "      <td>full_parttime_employment_stat_Male_4</td>\n",
       "      <td>0.000000</td>\n",
       "    </tr>\n",
       "    <tr>\n",
       "      <th>17</th>\n",
       "      <td>Tax_Status_Household_Head</td>\n",
       "      <td>0.237543</td>\n",
       "    </tr>\n",
       "    <tr>\n",
       "      <th>18</th>\n",
       "      <td>Tax_Status_65plus</td>\n",
       "      <td>0.035881</td>\n",
       "    </tr>\n",
       "    <tr>\n",
       "      <th>19</th>\n",
       "      <td>Tax_Status_under65</td>\n",
       "      <td>0.447868</td>\n",
       "    </tr>\n",
       "    <tr>\n",
       "      <th>20</th>\n",
       "      <td>Tax_Status_65plus_65under</td>\n",
       "      <td>-0.002325</td>\n",
       "    </tr>\n",
       "    <tr>\n",
       "      <th>21</th>\n",
       "      <td>Tax_Status_Nonfiler</td>\n",
       "      <td>-2.454428</td>\n",
       "    </tr>\n",
       "    <tr>\n",
       "      <th>22</th>\n",
       "      <td>Tax_Status_Single</td>\n",
       "      <td>-0.091389</td>\n",
       "    </tr>\n",
       "    <tr>\n",
       "      <th>23</th>\n",
       "      <td>Household_1</td>\n",
       "      <td>-0.838212</td>\n",
       "    </tr>\n",
       "    <tr>\n",
       "      <th>24</th>\n",
       "      <td>Household_2</td>\n",
       "      <td>0.131444</td>\n",
       "    </tr>\n",
       "    <tr>\n",
       "      <th>25</th>\n",
       "      <td>Household_3</td>\n",
       "      <td>-1.172044</td>\n",
       "    </tr>\n",
       "    <tr>\n",
       "      <th>26</th>\n",
       "      <td>Household_4</td>\n",
       "      <td>-0.778576</td>\n",
       "    </tr>\n",
       "    <tr>\n",
       "      <th>27</th>\n",
       "      <td>Household_5</td>\n",
       "      <td>-0.276987</td>\n",
       "    </tr>\n",
       "    <tr>\n",
       "      <th>28</th>\n",
       "      <td>Household_6</td>\n",
       "      <td>-0.752303</td>\n",
       "    </tr>\n",
       "    <tr>\n",
       "      <th>29</th>\n",
       "      <td>Household_7</td>\n",
       "      <td>0.108649</td>\n",
       "    </tr>\n",
       "    <tr>\n",
       "      <th>30</th>\n",
       "      <td>Household_8</td>\n",
       "      <td>0.774868</td>\n",
       "    </tr>\n",
       "    <tr>\n",
       "      <th>31</th>\n",
       "      <td>Citizenship_1</td>\n",
       "      <td>-2.692358</td>\n",
       "    </tr>\n",
       "    <tr>\n",
       "      <th>32</th>\n",
       "      <td>Citizenship_2</td>\n",
       "      <td>-2.117960</td>\n",
       "    </tr>\n",
       "    <tr>\n",
       "      <th>33</th>\n",
       "      <td>Citizenship_3</td>\n",
       "      <td>-2.165280</td>\n",
       "    </tr>\n",
       "    <tr>\n",
       "      <th>34</th>\n",
       "      <td>Citizenship_4</td>\n",
       "      <td>-3.098614</td>\n",
       "    </tr>\n",
       "    <tr>\n",
       "      <th>35</th>\n",
       "      <td>Citizenship_5</td>\n",
       "      <td>-2.094135</td>\n",
       "    </tr>\n",
       "    <tr>\n",
       "      <th>36</th>\n",
       "      <td>capital_gains</td>\n",
       "      <td>0.000143</td>\n",
       "    </tr>\n",
       "    <tr>\n",
       "      <th>37</th>\n",
       "      <td>capital_losses</td>\n",
       "      <td>0.000693</td>\n",
       "    </tr>\n",
       "    <tr>\n",
       "      <th>38</th>\n",
       "      <td>dividend_from_Stocks</td>\n",
       "      <td>0.000241</td>\n",
       "    </tr>\n",
       "    <tr>\n",
       "      <th>39</th>\n",
       "      <td>num_person_Worked_employer</td>\n",
       "      <td>0.140824</td>\n",
       "    </tr>\n",
       "    <tr>\n",
       "      <th>40</th>\n",
       "      <td>business_or_self_employed</td>\n",
       "      <td>-0.026229</td>\n",
       "    </tr>\n",
       "    <tr>\n",
       "      <th>41</th>\n",
       "      <td>veterans_benefits</td>\n",
       "      <td>-0.346387</td>\n",
       "    </tr>\n",
       "    <tr>\n",
       "      <th>42</th>\n",
       "      <td>weeks_worked_in_year</td>\n",
       "      <td>0.045521</td>\n",
       "    </tr>\n",
       "    <tr>\n",
       "      <th>43</th>\n",
       "      <td>bucket_ages</td>\n",
       "      <td>0.627792</td>\n",
       "    </tr>\n",
       "  </tbody>\n",
       "</table>\n",
       "</div>"
      ],
      "text/plain": [
       "                                            Variables  Coefficients\n",
       "0                    race_Amer_Indian_Aleut_or_Eskimo     -2.218068\n",
       "1                      race_Asian_or_Pacific_Islander     -0.908297\n",
       "2                                          race_Black     -2.094692\n",
       "3                                          race_Other     -2.024640\n",
       "4                                          race_White     -1.501789\n",
       "5                                                 sex      1.235799\n",
       "6                full_parttime_employment_stat_Male_1      0.519970\n",
       "7   full_parttime_employment_stat_Full-time_schedules      0.681269\n",
       "8    full_parttime_employment_stat_Not_in_labor_force      0.611731\n",
       "9   full_parttime_employment_stat_PT_for_non-econ_...      0.638815\n",
       "10  full_parttime_employment_stat_PT_for_econ_reas...      0.796920\n",
       "11  full_parttime_employment_stat_PT_for_econ_reas...      0.232518\n",
       "12  full_parttime_employment_stat_Unemployed_full-...      0.383912\n",
       "13  full_parttime_employment_stat_Unemployed part-...      0.000000\n",
       "14               full_parttime_employment_stat_Male_2      0.000000\n",
       "15               full_parttime_employment_stat_Male_3      0.000000\n",
       "16               full_parttime_employment_stat_Male_4      0.000000\n",
       "17                          Tax_Status_Household_Head      0.237543\n",
       "18                                  Tax_Status_65plus      0.035881\n",
       "19                                 Tax_Status_under65      0.447868\n",
       "20                          Tax_Status_65plus_65under     -0.002325\n",
       "21                                Tax_Status_Nonfiler     -2.454428\n",
       "22                                  Tax_Status_Single     -0.091389\n",
       "23                                        Household_1     -0.838212\n",
       "24                                        Household_2      0.131444\n",
       "25                                        Household_3     -1.172044\n",
       "26                                        Household_4     -0.778576\n",
       "27                                        Household_5     -0.276987\n",
       "28                                        Household_6     -0.752303\n",
       "29                                        Household_7      0.108649\n",
       "30                                        Household_8      0.774868\n",
       "31                                      Citizenship_1     -2.692358\n",
       "32                                      Citizenship_2     -2.117960\n",
       "33                                      Citizenship_3     -2.165280\n",
       "34                                      Citizenship_4     -3.098614\n",
       "35                                      Citizenship_5     -2.094135\n",
       "36                                      capital_gains      0.000143\n",
       "37                                     capital_losses      0.000693\n",
       "38                               dividend_from_Stocks      0.000241\n",
       "39                         num_person_Worked_employer      0.140824\n",
       "40                          business_or_self_employed     -0.026229\n",
       "41                                  veterans_benefits     -0.346387\n",
       "42                               weeks_worked_in_year      0.045521\n",
       "43                                        bucket_ages      0.627792"
      ]
     },
     "execution_count": 36,
     "metadata": {},
     "output_type": "execute_result"
    }
   ],
   "source": [
    "coef_pd"
   ]
  },
  {
   "cell_type": "markdown",
   "metadata": {},
   "source": [
    "# BEST MODEL RANDOM FOREST"
   ]
  },
  {
   "cell_type": "code",
   "execution_count": 37,
   "metadata": {},
   "outputs": [],
   "source": [
    "# Best Model Random forest\n",
    "best_model_rf = pipe_rf2"
   ]
  },
  {
   "cell_type": "markdown",
   "metadata": {},
   "source": [
    "## ANALYZING THE PREDICTIONS"
   ]
  },
  {
   "cell_type": "code",
   "execution_count": 38,
   "metadata": {},
   "outputs": [
    {
     "name": "stdout",
     "output_type": "stream",
     "text": [
      "+-------------+--------------------+----------+--------------------+\n",
      "|income_level1|       rawPrediction|prediction|         probability|\n",
      "+-------------+--------------------+----------+--------------------+\n",
      "|            0|[57.9526307954764...|       0.0|[0.96587717992460...|\n",
      "|            0|[57.8468526407396...|       0.0|[0.96411421067899...|\n",
      "|            0|[57.3779841473216...|       0.0|[0.95629973578869...|\n",
      "|            0|[57.3779841473216...|       0.0|[0.95629973578869...|\n",
      "|            0|[57.7257194913769...|       0.0|[0.96209532485628...|\n",
      "|            0|[56.9701735308539...|       0.0|[0.94950289218089...|\n",
      "|            0|[56.9701735308539...|       0.0|[0.94950289218089...|\n",
      "|            0|[57.5125275403675...|       0.0|[0.95854212567279...|\n",
      "|            0|[57.8526054549634...|       0.0|[0.96421009091605...|\n",
      "|            0|[57.7785431086964...|       0.0|[0.96297571847827...|\n",
      "+-------------+--------------------+----------+--------------------+\n",
      "only showing top 10 rows\n",
      "\n"
     ]
    }
   ],
   "source": [
    "# Checking the predictions\n",
    "predictions_rf = best_model_rf.transform(testing_df)\n",
    "predictions_rf.select('income_level1', 'rawPrediction', 'prediction', 'probability').show(10)\n"
   ]
  },
  {
   "cell_type": "markdown",
   "metadata": {},
   "source": [
    "## ANALYZING THE AUC"
   ]
  },
  {
   "cell_type": "code",
   "execution_count": 39,
   "metadata": {},
   "outputs": [
    {
     "name": "stdout",
     "output_type": "stream",
     "text": [
      "AUC Best Model:  0.8907622970004332\n"
     ]
    }
   ],
   "source": [
    "# AUC Best Model Random Forest\n",
    "AUC_best = evaluator.evaluate(best_model_rf.transform(testing_df))\n",
    "print(\"AUC Best Model: \", AUC_best)"
   ]
  },
  {
   "cell_type": "markdown",
   "metadata": {},
   "source": [
    "## FEATURE IMPORTANCE "
   ]
  },
  {
   "cell_type": "code",
   "execution_count": 40,
   "metadata": {},
   "outputs": [],
   "source": [
    "#Final Model - Random Forest\n",
    "final_model_rf = Pipeline(stages=[VectorAssembler().setInputCols(x1).setOutputCol('features'),\n",
    "                          RandomForestClassifier(labelCol=\"income_level1\", featuresCol=\"features\",maxDepth=6, numTrees=20) ]).fit(dummy_df)"
   ]
  },
  {
   "cell_type": "code",
   "execution_count": 41,
   "metadata": {},
   "outputs": [
    {
     "data": {
      "text/html": [
       "<div>\n",
       "<style scoped>\n",
       "    .dataframe tbody tr th:only-of-type {\n",
       "        vertical-align: middle;\n",
       "    }\n",
       "\n",
       "    .dataframe tbody tr th {\n",
       "        vertical-align: top;\n",
       "    }\n",
       "\n",
       "    .dataframe thead th {\n",
       "        text-align: right;\n",
       "    }\n",
       "</style>\n",
       "<table border=\"1\" class=\"dataframe\">\n",
       "  <thead>\n",
       "    <tr style=\"text-align: right;\">\n",
       "      <th></th>\n",
       "      <th>feature</th>\n",
       "      <th>importance</th>\n",
       "    </tr>\n",
       "  </thead>\n",
       "  <tbody>\n",
       "    <tr>\n",
       "      <th>38</th>\n",
       "      <td>dividend_from_Stocks</td>\n",
       "      <td>2.259317e-01</td>\n",
       "    </tr>\n",
       "    <tr>\n",
       "      <th>42</th>\n",
       "      <td>weeks_worked_in_year</td>\n",
       "      <td>1.865018e-01</td>\n",
       "    </tr>\n",
       "    <tr>\n",
       "      <th>36</th>\n",
       "      <td>capital_gains</td>\n",
       "      <td>1.298890e-01</td>\n",
       "    </tr>\n",
       "    <tr>\n",
       "      <th>5</th>\n",
       "      <td>sex</td>\n",
       "      <td>9.058500e-02</td>\n",
       "    </tr>\n",
       "    <tr>\n",
       "      <th>37</th>\n",
       "      <td>capital_losses</td>\n",
       "      <td>8.792555e-02</td>\n",
       "    </tr>\n",
       "    <tr>\n",
       "      <th>24</th>\n",
       "      <td>Household_2</td>\n",
       "      <td>5.502000e-02</td>\n",
       "    </tr>\n",
       "    <tr>\n",
       "      <th>43</th>\n",
       "      <td>bucket_ages</td>\n",
       "      <td>5.197364e-02</td>\n",
       "    </tr>\n",
       "    <tr>\n",
       "      <th>39</th>\n",
       "      <td>num_person_Worked_employer</td>\n",
       "      <td>5.027162e-02</td>\n",
       "    </tr>\n",
       "    <tr>\n",
       "      <th>19</th>\n",
       "      <td>Tax_Status_under65</td>\n",
       "      <td>4.453128e-02</td>\n",
       "    </tr>\n",
       "    <tr>\n",
       "      <th>7</th>\n",
       "      <td>full_parttime_employment_stat_Full-time_schedules</td>\n",
       "      <td>2.357862e-02</td>\n",
       "    </tr>\n",
       "    <tr>\n",
       "      <th>21</th>\n",
       "      <td>Tax_Status_Nonfiler</td>\n",
       "      <td>1.543975e-02</td>\n",
       "    </tr>\n",
       "    <tr>\n",
       "      <th>29</th>\n",
       "      <td>Household_7</td>\n",
       "      <td>1.005035e-02</td>\n",
       "    </tr>\n",
       "    <tr>\n",
       "      <th>8</th>\n",
       "      <td>full_parttime_employment_stat_Not_in_labor_force</td>\n",
       "      <td>5.540628e-03</td>\n",
       "    </tr>\n",
       "    <tr>\n",
       "      <th>22</th>\n",
       "      <td>Tax_Status_Single</td>\n",
       "      <td>4.668137e-03</td>\n",
       "    </tr>\n",
       "    <tr>\n",
       "      <th>41</th>\n",
       "      <td>veterans_benefits</td>\n",
       "      <td>3.161130e-03</td>\n",
       "    </tr>\n",
       "    <tr>\n",
       "      <th>17</th>\n",
       "      <td>Tax_Status_Household_Head</td>\n",
       "      <td>2.529058e-03</td>\n",
       "    </tr>\n",
       "    <tr>\n",
       "      <th>4</th>\n",
       "      <td>race_White</td>\n",
       "      <td>1.990946e-03</td>\n",
       "    </tr>\n",
       "    <tr>\n",
       "      <th>18</th>\n",
       "      <td>Tax_Status_65plus</td>\n",
       "      <td>1.820426e-03</td>\n",
       "    </tr>\n",
       "    <tr>\n",
       "      <th>31</th>\n",
       "      <td>Citizenship_1</td>\n",
       "      <td>1.688422e-03</td>\n",
       "    </tr>\n",
       "    <tr>\n",
       "      <th>6</th>\n",
       "      <td>full_parttime_employment_stat_Male_1</td>\n",
       "      <td>1.642325e-03</td>\n",
       "    </tr>\n",
       "    <tr>\n",
       "      <th>2</th>\n",
       "      <td>race_Black</td>\n",
       "      <td>1.301691e-03</td>\n",
       "    </tr>\n",
       "    <tr>\n",
       "      <th>1</th>\n",
       "      <td>race_Asian_or_Pacific_Islander</td>\n",
       "      <td>8.246348e-04</td>\n",
       "    </tr>\n",
       "    <tr>\n",
       "      <th>40</th>\n",
       "      <td>business_or_self_employed</td>\n",
       "      <td>5.897498e-04</td>\n",
       "    </tr>\n",
       "    <tr>\n",
       "      <th>9</th>\n",
       "      <td>full_parttime_employment_stat_PT_for_non-econ_...</td>\n",
       "      <td>5.614572e-04</td>\n",
       "    </tr>\n",
       "    <tr>\n",
       "      <th>32</th>\n",
       "      <td>Citizenship_2</td>\n",
       "      <td>4.250128e-04</td>\n",
       "    </tr>\n",
       "    <tr>\n",
       "      <th>35</th>\n",
       "      <td>Citizenship_5</td>\n",
       "      <td>2.572018e-04</td>\n",
       "    </tr>\n",
       "    <tr>\n",
       "      <th>3</th>\n",
       "      <td>race_Other</td>\n",
       "      <td>2.158993e-04</td>\n",
       "    </tr>\n",
       "    <tr>\n",
       "      <th>26</th>\n",
       "      <td>Household_4</td>\n",
       "      <td>2.068951e-04</td>\n",
       "    </tr>\n",
       "    <tr>\n",
       "      <th>12</th>\n",
       "      <td>full_parttime_employment_stat_Unemployed_full-...</td>\n",
       "      <td>2.031690e-04</td>\n",
       "    </tr>\n",
       "    <tr>\n",
       "      <th>20</th>\n",
       "      <td>Tax_Status_65plus_65under</td>\n",
       "      <td>1.793688e-04</td>\n",
       "    </tr>\n",
       "    <tr>\n",
       "      <th>0</th>\n",
       "      <td>race_Amer_Indian_Aleut_or_Eskimo</td>\n",
       "      <td>1.128566e-04</td>\n",
       "    </tr>\n",
       "    <tr>\n",
       "      <th>34</th>\n",
       "      <td>Citizenship_4</td>\n",
       "      <td>8.749384e-05</td>\n",
       "    </tr>\n",
       "    <tr>\n",
       "      <th>11</th>\n",
       "      <td>full_parttime_employment_stat_PT_for_econ_reas...</td>\n",
       "      <td>7.730591e-05</td>\n",
       "    </tr>\n",
       "    <tr>\n",
       "      <th>28</th>\n",
       "      <td>Household_6</td>\n",
       "      <td>6.330751e-05</td>\n",
       "    </tr>\n",
       "    <tr>\n",
       "      <th>10</th>\n",
       "      <td>full_parttime_employment_stat_PT_for_econ_reas...</td>\n",
       "      <td>5.142083e-05</td>\n",
       "    </tr>\n",
       "    <tr>\n",
       "      <th>33</th>\n",
       "      <td>Citizenship_3</td>\n",
       "      <td>4.797213e-05</td>\n",
       "    </tr>\n",
       "    <tr>\n",
       "      <th>27</th>\n",
       "      <td>Household_5</td>\n",
       "      <td>3.176609e-05</td>\n",
       "    </tr>\n",
       "    <tr>\n",
       "      <th>23</th>\n",
       "      <td>Household_1</td>\n",
       "      <td>2.281964e-05</td>\n",
       "    </tr>\n",
       "    <tr>\n",
       "      <th>25</th>\n",
       "      <td>Household_3</td>\n",
       "      <td>5.730473e-07</td>\n",
       "    </tr>\n",
       "    <tr>\n",
       "      <th>30</th>\n",
       "      <td>Household_8</td>\n",
       "      <td>0.000000e+00</td>\n",
       "    </tr>\n",
       "    <tr>\n",
       "      <th>15</th>\n",
       "      <td>full_parttime_employment_stat_Male_3</td>\n",
       "      <td>0.000000e+00</td>\n",
       "    </tr>\n",
       "    <tr>\n",
       "      <th>13</th>\n",
       "      <td>full_parttime_employment_stat_Unemployed part-...</td>\n",
       "      <td>0.000000e+00</td>\n",
       "    </tr>\n",
       "    <tr>\n",
       "      <th>16</th>\n",
       "      <td>full_parttime_employment_stat_Male_4</td>\n",
       "      <td>0.000000e+00</td>\n",
       "    </tr>\n",
       "    <tr>\n",
       "      <th>14</th>\n",
       "      <td>full_parttime_employment_stat_Male_2</td>\n",
       "      <td>0.000000e+00</td>\n",
       "    </tr>\n",
       "  </tbody>\n",
       "</table>\n",
       "</div>"
      ],
      "text/plain": [
       "                                              feature    importance\n",
       "38                               dividend_from_Stocks  2.259317e-01\n",
       "42                               weeks_worked_in_year  1.865018e-01\n",
       "36                                      capital_gains  1.298890e-01\n",
       "5                                                 sex  9.058500e-02\n",
       "37                                     capital_losses  8.792555e-02\n",
       "24                                        Household_2  5.502000e-02\n",
       "43                                        bucket_ages  5.197364e-02\n",
       "39                         num_person_Worked_employer  5.027162e-02\n",
       "19                                 Tax_Status_under65  4.453128e-02\n",
       "7   full_parttime_employment_stat_Full-time_schedules  2.357862e-02\n",
       "21                                Tax_Status_Nonfiler  1.543975e-02\n",
       "29                                        Household_7  1.005035e-02\n",
       "8    full_parttime_employment_stat_Not_in_labor_force  5.540628e-03\n",
       "22                                  Tax_Status_Single  4.668137e-03\n",
       "41                                  veterans_benefits  3.161130e-03\n",
       "17                          Tax_Status_Household_Head  2.529058e-03\n",
       "4                                          race_White  1.990946e-03\n",
       "18                                  Tax_Status_65plus  1.820426e-03\n",
       "31                                      Citizenship_1  1.688422e-03\n",
       "6                full_parttime_employment_stat_Male_1  1.642325e-03\n",
       "2                                          race_Black  1.301691e-03\n",
       "1                      race_Asian_or_Pacific_Islander  8.246348e-04\n",
       "40                          business_or_self_employed  5.897498e-04\n",
       "9   full_parttime_employment_stat_PT_for_non-econ_...  5.614572e-04\n",
       "32                                      Citizenship_2  4.250128e-04\n",
       "35                                      Citizenship_5  2.572018e-04\n",
       "3                                          race_Other  2.158993e-04\n",
       "26                                        Household_4  2.068951e-04\n",
       "12  full_parttime_employment_stat_Unemployed_full-...  2.031690e-04\n",
       "20                          Tax_Status_65plus_65under  1.793688e-04\n",
       "0                    race_Amer_Indian_Aleut_or_Eskimo  1.128566e-04\n",
       "34                                      Citizenship_4  8.749384e-05\n",
       "11  full_parttime_employment_stat_PT_for_econ_reas...  7.730591e-05\n",
       "28                                        Household_6  6.330751e-05\n",
       "10  full_parttime_employment_stat_PT_for_econ_reas...  5.142083e-05\n",
       "33                                      Citizenship_3  4.797213e-05\n",
       "27                                        Household_5  3.176609e-05\n",
       "23                                        Household_1  2.281964e-05\n",
       "25                                        Household_3  5.730473e-07\n",
       "30                                        Household_8  0.000000e+00\n",
       "15               full_parttime_employment_stat_Male_3  0.000000e+00\n",
       "13  full_parttime_employment_stat_Unemployed part-...  0.000000e+00\n",
       "16               full_parttime_employment_stat_Male_4  0.000000e+00\n",
       "14               full_parttime_employment_stat_Male_2  0.000000e+00"
      ]
     },
     "execution_count": 41,
     "metadata": {},
     "output_type": "execute_result"
    }
   ],
   "source": [
    "# Feature Importance - Random Forest\n",
    "feature_importance = pd.DataFrame(list(zip(x1, final_model_rf.stages[-1].featureImportances.toArray())),\n",
    "            columns = ['feature', 'importance']).sort_values('importance', ascending=False)\n",
    "feature_importance"
   ]
  }
 ],
 "metadata": {
  "kernelspec": {
   "display_name": "Python 3",
   "language": "python",
   "name": "python3"
  },
  "language_info": {
   "codemirror_mode": {
    "name": "ipython",
    "version": 3
   },
   "file_extension": ".py",
   "mimetype": "text/x-python",
   "name": "python",
   "nbconvert_exporter": "python",
   "pygments_lexer": "ipython3",
   "version": "3.6.6"
  }
 },
 "nbformat": 4,
 "nbformat_minor": 2
}
